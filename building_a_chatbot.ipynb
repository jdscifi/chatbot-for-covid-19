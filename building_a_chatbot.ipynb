{
 "cells": [
  {
   "cell_type": "raw",
   "metadata": {
    "_uuid": "43610bb518b820ad2b2cad38deff97e6f019b815",
    "id": "mIj9mdsHwB7k"
   },
   "source": [
    "# Creating your own chatbot: RelaBot"
   ]
  },
  {
   "cell_type": "code",
   "execution_count": 1,
   "metadata": {
    "id": "wIjTxDf80-S0"
   },
   "outputs": [],
   "source": [
    "#!python -m spacy download en_core_web_lg"
   ]
  },
  {
   "cell_type": "code",
   "execution_count": 3,
   "metadata": {
    "_cell_guid": "b1076dfc-b9ad-4769-8c92-a6c4dae69d19",
    "_uuid": "8f2839f25d086af736a60e9eeb907d3b93b6e0e5",
    "id": "LrEN1ml5wB7o",
    "jupyter": {
     "outputs_hidden": true
    }
   },
   "outputs": [],
   "source": [
    "import en_core_web_lg # Large SpaCy model for English language\n",
    "import numpy as np\n",
    "import re # regular expressions\n",
    "import spacy # NLU library\n",
    "import seaborn as sns\n",
    "from collections import defaultdict\n",
    "from sklearn.svm import SVC # Support Vector Classification model\n",
    "import matplotlib.pyplot as plt\n",
    "from sklearn.model_selection import train_test_split\n",
    "import pandas as pd\n",
    "from sklearn.naive_bayes import GaussianNB\n"
   ]
  },
  {
   "cell_type": "code",
   "execution_count": 3,
   "metadata": {
    "id": "OwNuOo0kwHz4"
   },
   "outputs": [],
   "source": [
    "#$python install "
   ]
  },
  {
   "cell_type": "markdown",
   "metadata": {
    "_uuid": "7055223a3e8da2a9f1f6d10d1efa683c55772693",
    "id": "wqu4UiJkwB7t"
   },
   "source": [
    "## Version 3: Machine Learning"
   ]
  },
  {
   "cell_type": "markdown",
   "metadata": {
    "_uuid": "5af79087123f043764e4a475feccdfb81694536a",
    "id": "twpj_TdXwB7t"
   },
   "source": [
    "### Step 3.1: Finding out what he / she wants"
   ]
  },
  {
   "cell_type": "code",
   "execution_count": 4,
   "metadata": {
    "_uuid": "d96158b20a8c0ab3a26734084115a025b2edc06f",
    "id": "J10kHMNcwB7u",
    "jupyter": {
     "outputs_hidden": true
    }
   },
   "outputs": [
    {
     "data": {
      "text/html": [
       "<div>\n",
       "<style scoped>\n",
       "    .dataframe tbody tr th:only-of-type {\n",
       "        vertical-align: middle;\n",
       "    }\n",
       "\n",
       "    .dataframe tbody tr th {\n",
       "        vertical-align: top;\n",
       "    }\n",
       "\n",
       "    .dataframe thead th {\n",
       "        text-align: right;\n",
       "    }\n",
       "</style>\n",
       "<table border=\"1\" class=\"dataframe\">\n",
       "  <thead>\n",
       "    <tr style=\"text-align: right;\">\n",
       "      <th></th>\n",
       "      <th>sentence</th>\n",
       "      <th>intent</th>\n",
       "    </tr>\n",
       "  </thead>\n",
       "  <tbody>\n",
       "    <tr>\n",
       "      <th>0</th>\n",
       "      <td>does the vaccine work</td>\n",
       "      <td>vaccine</td>\n",
       "    </tr>\n",
       "    <tr>\n",
       "      <th>1</th>\n",
       "      <td>should I wash my cloths everyday</td>\n",
       "      <td>transmition</td>\n",
       "    </tr>\n",
       "    <tr>\n",
       "      <th>2</th>\n",
       "      <td>how often should i clean my house</td>\n",
       "      <td>transmition</td>\n",
       "    </tr>\n",
       "    <tr>\n",
       "      <th>3</th>\n",
       "      <td>can i drink alcohol</td>\n",
       "      <td>food</td>\n",
       "    </tr>\n",
       "    <tr>\n",
       "      <th>4</th>\n",
       "      <td>does vaccine have any side effects</td>\n",
       "      <td>vaccine</td>\n",
       "    </tr>\n",
       "    <tr>\n",
       "      <th>5</th>\n",
       "      <td>does washing hands helping in reducing transmi...</td>\n",
       "      <td>transmition</td>\n",
       "    </tr>\n",
       "    <tr>\n",
       "      <th>6</th>\n",
       "      <td>does covid spread in hot weather</td>\n",
       "      <td>climate</td>\n",
       "    </tr>\n",
       "    <tr>\n",
       "      <th>7</th>\n",
       "      <td>should I isolate myself if I observe symptoms</td>\n",
       "      <td>transmition</td>\n",
       "    </tr>\n",
       "    <tr>\n",
       "      <th>8</th>\n",
       "      <td>which fruits are helpful in improving immunity</td>\n",
       "      <td>food</td>\n",
       "    </tr>\n",
       "    <tr>\n",
       "      <th>9</th>\n",
       "      <td>do vitamin and zinc supplements help</td>\n",
       "      <td>food</td>\n",
       "    </tr>\n",
       "  </tbody>\n",
       "</table>\n",
       "</div>"
      ],
      "text/plain": [
       "                                            sentence       intent\n",
       "0                              does the vaccine work      vaccine\n",
       "1                   should I wash my cloths everyday  transmition\n",
       "2                  how often should i clean my house  transmition\n",
       "3                                can i drink alcohol         food\n",
       "4                 does vaccine have any side effects      vaccine\n",
       "5  does washing hands helping in reducing transmi...  transmition\n",
       "6                   does covid spread in hot weather      climate\n",
       "7      should I isolate myself if I observe symptoms  transmition\n",
       "8     which fruits are helpful in improving immunity         food\n",
       "9               do vitamin and zinc supplements help         food"
      ]
     },
     "execution_count": 4,
     "metadata": {},
     "output_type": "execute_result"
    }
   ],
   "source": [
    "# Create training data\n",
    "\n",
    "data = pd.read_csv(\"training.csv\")\n",
    "\n",
    "data.head(10)"
   ]
  },
  {
   "cell_type": "code",
   "execution_count": 5,
   "metadata": {},
   "outputs": [
    {
     "data": {
      "text/plain": [
       "(55, 2)"
      ]
     },
     "execution_count": 5,
     "metadata": {},
     "output_type": "execute_result"
    }
   ],
   "source": [
    "data.shape"
   ]
  },
  {
   "cell_type": "code",
   "execution_count": 6,
   "metadata": {},
   "outputs": [
    {
     "name": "stderr",
     "output_type": "stream",
     "text": [
      "D:\\Python Envs\\tensorflow-general\\lib\\site-packages\\seaborn\\_decorators.py:36: FutureWarning: Pass the following variable as a keyword arg: x. From version 0.12, the only valid positional argument will be `data`, and passing other arguments without an explicit keyword will result in an error or misinterpretation.\n",
      "  warnings.warn(\n"
     ]
    },
    {
     "data": {
      "image/png": "[encoded data removed]",
      "text/plain": [
       "<Figure size 432x288 with 1 Axes>"
      ]
     },
     "metadata": {
      "needs_background": "light"
     },
     "output_type": "display_data"
    },
    {
     "name": "stdout",
     "output_type": "stream",
     "text": [
      "symptons       13\n",
      "transmition    11\n",
      "food           11\n",
      "vaccine        10\n",
      "climate        10\n",
      "Name: intent, dtype: int64\n"
     ]
    }
   ],
   "source": [
    "sns.countplot(data[\"intent\"])\n",
    "plt.show()\n",
    "print(data[\"intent\"].value_counts())"
   ]
  },
  {
   "cell_type": "code",
   "execution_count": 7,
   "metadata": {},
   "outputs": [
    {
     "data": {
      "text/plain": [
       "<bound method NDFrame.head of                                              sentence       intent\n",
       "0                               does the vaccine work      vaccine\n",
       "1                    should i wash my cloths everyday  transmition\n",
       "2                   how often should i clean my house  transmition\n",
       "3                                 can i drink alcohol         food\n",
       "4                  does vaccine have any side effects      vaccine\n",
       "5   does washing hands helping in reducing transmi...  transmition\n",
       "6                    does covid spread in hot weather      climate\n",
       "7       should i isolate myself if i observe symptoms  transmition\n",
       "8      which fruits are helpful in improving immunity         food\n",
       "9                do vitamin and zinc supplements help         food\n",
       "10                     will vaccine cause weight gain      vaccine\n",
       "11                  can a pregnant woman take vaccine      vaccine\n",
       "12         are vaccines safe for people with diabetes      vaccine\n",
       "13  are vaccines safe for people with coronary ail...      vaccine\n",
       "14                  can i smoke after taking vaccines      vaccine\n",
       "15  will the chances of contracting covid increase...  transmition\n",
       "16                      can winter make covid19 worse      climate\n",
       "17                does having cold mean i have corona     symptons\n",
       "18           how much temperature means i have corona     symptons\n",
       "19            can eating in restaurants cause covid19  transmition\n",
       "20               can drinking cold water cause corona         food\n",
       "21               what should i eat to prevent covid19         food\n",
       "22     does excessive weight loss mean i have covid19     symptons\n",
       "23               i got wet in rain can i have covid19      climate\n",
       "24  my child has fever for 2 days does he have cov...     symptons\n",
       "25                 can herbal tea prevent the disease         food\n",
       "26  if i increase my thermostat can i avoid gettin...      climate\n",
       "27             can playing in the snow cause covid 19      climate\n",
       "28                  i sneeze too much do i have covid     symptons\n",
       "29                              how does virus spread  transmition\n",
       "30                           what is community spread  transmition\n",
       "31                 what are covid 19 community levels  transmition\n",
       "32                           how can i protect myself      vaccine\n",
       "33  what are the recommendation for person that is...      vaccine\n",
       "34                 what should i do if i get covid 19     symptons\n",
       "35  what are the symptoms and complication that co...     symptons\n",
       "36  when should i seek emergency care if i have co...     symptons\n",
       "37  can someone test neagtive and later test posit...     symptons\n",
       "38  how and when should workers in food retail and...         food\n",
       "39  what steps do i need to take to clean the faci...         food\n",
       "40  what measures are fda and cdc state partners e...         food\n",
       "41  does climate change affect the transmission of...      climate\n",
       "42  does air pollution increase the risk of gettin...      climate\n",
       "43  how likely are we to see infectious disease sp...      climate\n",
       "44  what actions can we take to prevent future out...      climate\n",
       "45               does vitamin d help prevent covid19          food\n",
       "46             what are the benefits of booster shot       vaccine\n",
       "47             can covid19 spread through intercourse  transmition\n",
       "48         can rat and rtpcr have contrarory results      symptons\n",
       "49     i am unable to smell anything do i have covid      symptons\n",
       "50  i am having chest pain is it an indication of ...     symptons\n",
       "51  do regular coffee drinkers have less chance of...         food\n",
       "52  i am a chainsmoker and facing excessive coughi...     symptons\n",
       "53  does pollution affect transmissability rate of...      climate\n",
       "54          do sanitizers really decrease the spread   transmition>"
      ]
     },
     "execution_count": 7,
     "metadata": {},
     "output_type": "execute_result"
    }
   ],
   "source": [
    "# Change the case of all the sentences to lower case\n",
    "# remove the non alpha-numeric characters\n",
    "data['sentence'] = data['sentence'].apply((lambda x: re.sub('[^a-zA-z0-9\\s]','',x.lower())))\n",
    "data.head"
   ]
  },
  {
   "cell_type": "code",
   "execution_count": 8,
   "metadata": {
    "id": "3W2A8zL1GBcB"
   },
   "outputs": [],
   "source": [
    "# create train-test split\n",
    "training_sentences,test_sentences,training_intents,test_intents = train_test_split(data['sentence'],data['intent'],test_size = 0.4)"
   ]
  },
  {
   "cell_type": "code",
   "execution_count": 9,
   "metadata": {
    "id": "eXYKJK4TGCda"
   },
   "outputs": [],
   "source": [
    "#training_sentences = data['sentence']\n",
    "#training_intents = data['intent']"
   ]
  },
  {
   "cell_type": "code",
   "execution_count": 10,
   "metadata": {
    "_cell_guid": "79c7e3d0-c299-4dcb-8224-4455121ee9b0",
    "_uuid": "d629ff2d2480ee46fbb7e2d37f6b5fab8052498a",
    "id": "irc2oHGnwB7v",
    "jupyter": {
     "outputs_hidden": true
    }
   },
   "outputs": [
    {
     "name": "stdout",
     "output_type": "stream",
     "text": [
      "300\n"
     ]
    }
   ],
   "source": [
    "# this may take a couple of seconds\n",
    "nlp = en_core_web_lg.load()\n",
    "# Calculate the dimensionality of nlp\n",
    "embedding_dim = nlp.vocab.vectors_length\n",
    "\n",
    "print(embedding_dim)"
   ]
  },
  {
   "cell_type": "code",
   "execution_count": 11,
   "metadata": {},
   "outputs": [],
   "source": [
    "def encode_sentences(sentences):\n",
    "    # Calculate number of sentences\n",
    "    n_sentences = len(sentences)\n",
    "\n",
    "    print('Length :',n_sentences)\n",
    "\n",
    "    X = np.zeros((n_sentences, embedding_dim))\n",
    "    #y = np.zeros((n_sentences, embedding_dim))\n",
    "\n",
    "    # Iterate over the sentences\n",
    "    for idx, sentence in enumerate(sentences):\n",
    "        # Pass each sentence to the nlp object to create a document\n",
    "        doc = nlp(sentence)\n",
    "        # Save the document's .vector attribute to the corresponding row in X\n",
    "        X[idx, :] = doc.vector\n",
    "    return X"
   ]
  },
  {
   "cell_type": "code",
   "execution_count": 27,
   "metadata": {},
   "outputs": [
    {
     "name": "stdout",
     "output_type": "stream",
     "text": [
      "Length : 55\n"
     ]
    }
   ],
   "source": [
    "X = encode_sentences(data['sentence'])"
   ]
  },
  {
   "cell_type": "code",
   "execution_count": 28,
   "metadata": {
    "_uuid": "6448b17fd2fe077848b58481aad007cbd36b9236",
    "colab": {
     "base_uri": "https://localhost:8080/"
    },
    "id": "9SPlkup3wB7v",
    "outputId": "3d125a5b-106d-4b1a-e687-e3dbfd83a659"
   },
   "outputs": [
    {
     "data": {
      "text/plain": [
       "SVC(C=1, gamma='auto', probability=True)"
      ]
     },
     "execution_count": 28,
     "metadata": {},
     "output_type": "execute_result"
    }
   ],
   "source": [
    "# Create a support vector classifier\n",
    "clf = SVC(C=1, gamma=\"auto\", probability=True)\n",
    "\n",
    "# Fit the classifier using the training data\n",
    "clf.fit(X, data['intent'])"
   ]
  },
  {
   "cell_type": "code",
   "execution_count": 29,
   "metadata": {
    "colab": {
     "base_uri": "https://localhost:8080/"
    },
    "id": "yCziuZD67uC1",
    "outputId": "691f78de-cddf-45b8-aa2c-23e46031f220"
   },
   "outputs": [
    {
     "data": {
      "text/plain": [
       "LinearSVC()"
      ]
     },
     "execution_count": 29,
     "metadata": {},
     "output_type": "execute_result"
    }
   ],
   "source": [
    "from sklearn.svm import LinearSVC\n",
    "lin_clf = LinearSVC()\n",
    "lin_clf.fit(X, data['intent'])"
   ]
  },
  {
   "cell_type": "code",
   "execution_count": 30,
   "metadata": {
    "colab": {
     "base_uri": "https://localhost:8080/"
    },
    "id": "j0Wr56wS9F4M",
    "outputId": "b4da9153-cc90-468f-fb48-39e035963a66"
   },
   "outputs": [
    {
     "data": {
      "text/plain": [
       "GaussianNB()"
      ]
     },
     "execution_count": 30,
     "metadata": {},
     "output_type": "execute_result"
    }
   ],
   "source": [
    "gnb = GaussianNB()\n",
    "gnb.fit(X, data['intent'])"
   ]
  },
  {
   "cell_type": "code",
   "execution_count": 31,
   "metadata": {
    "colab": {
     "base_uri": "https://localhost:8080/"
    },
    "id": "akZ9h1HZ-wGU",
    "outputId": "a8e419b0-c837-46f9-f576-6de400d07d44"
   },
   "outputs": [
    {
     "data": {
      "text/plain": [
       "KNeighborsClassifier(n_neighbors=15)"
      ]
     },
     "execution_count": 31,
     "metadata": {},
     "output_type": "execute_result"
    }
   ],
   "source": [
    "from sklearn.neighbors import KNeighborsClassifier\n",
    "knn = KNeighborsClassifier(n_neighbors=15)\n",
    "knn.fit(X, data['intent'])"
   ]
  },
  {
   "cell_type": "code",
   "execution_count": 32,
   "metadata": {
    "_uuid": "19f182029af2c906cce2217a8a60928918f4ba9f",
    "id": "YP2FH8TBwB7w",
    "jupyter": {
     "outputs_hidden": true
    }
   },
   "outputs": [],
   "source": [
    "def get_intent_ml(text):\n",
    "    doc = nlp(text)\n",
    "    return(lin_clf.predict([doc.vector])[0], gnb.predict([doc.vector])[0],knn.predict([doc.vector])[0])"
   ]
  },
  {
   "cell_type": "markdown",
   "metadata": {
    "_uuid": "20234af6c50ec99443fcc9c59203901fbee03608",
    "id": "AERxR_VXwB7x"
   },
   "source": [
    "### Step 3.2 Figure out how to deal with it."
   ]
  },
  {
   "cell_type": "code",
   "execution_count": 33,
   "metadata": {
    "_uuid": "3ce007c41fad978a0090a61e0492c70127708065",
    "id": "YrtBtdclwB7x",
    "jupyter": {
     "outputs_hidden": true
    },
    "scrolled": true
   },
   "outputs": [],
   "source": [
    "import json\n",
    "\n",
    "responses_ml = json.load(open(\"intent_response.json\",\"r\"))\n",
    "responses_ml['default'] = \"Help me\"\n",
    "\n",
    "    \n",
    "\n",
    "\n",
    "def respond_ml(text):\n",
    "    response = responses_ml.get(get_intent_ml(text), responses_ml[\"default\"])\n",
    "    return(\"{}\\n{}\".format(text, response))"
   ]
  },
  {
   "cell_type": "code",
   "execution_count": 36,
   "metadata": {},
   "outputs": [
    {
     "name": "stdout",
     "output_type": "stream",
     "text": [
      "('symptons', 'symptons', 'symptons')\n",
      "('food', 'food', 'symptons')\n",
      "('vaccine', 'vaccine', 'vaccine')\n",
      "('transmition', 'transmition', 'symptons')\n"
     ]
    }
   ],
   "source": [
    "print(get_intent_ml(\"do i have to isolate?\"))\n",
    "print(get_intent_ml(\"can i drink cold juice for covid-19?\"))\n",
    "print(get_intent_ml(\"does the vaccine work\"))\n",
    "print(get_intent_ml(\"should I wash my cloths everyday\"))"
   ]
  },
  {
   "cell_type": "code",
   "execution_count": 37,
   "metadata": {},
   "outputs": [],
   "source": [
    "import pickle\n",
    "\n",
    "# save\n",
    "with open('model.pkl','wb') as f:\n",
    "    pickle.dump(gnb,f)"
   ]
  },
  {
   "cell_type": "code",
   "execution_count": 34,
   "metadata": {
    "_uuid": "c464befb1a1e6162e61ab343f7f2258e315dc806",
    "colab": {
     "base_uri": "https://localhost:8080/"
    },
    "id": "lpDvZIHHwB7x",
    "outputId": "ca6a31e9-9f41-4aa1-d501-b97a9b5612ef"
   },
   "outputs": [
    {
     "name": "stdout",
     "output_type": "stream",
     "text": [
      "do i have to isolate?\n",
      "Help me\n",
      "can i eat any food for covid-19?\n",
      "Help me\n",
      "does the vaccine work\n",
      "Help me\n",
      "should I wash my cloths everyday\n",
      "Help me\n"
     ]
    }
   ],
   "source": [
    "print(respond_ml(\"do i have to isolate?\"))\n",
    "print(respond_ml(\"can i eat any food for covid-19?\"))\n",
    "print(respond_ml(\"does the vaccine work\"))\n",
    "print(respond_ml(\"should I wash my cloths everyday\"))\n"
   ]
  },
  {
   "cell_type": "code",
   "execution_count": 20,
   "metadata": {
    "_uuid": "7c081907c27455c78f238770276095a509ad50e9",
    "id": "lvAmlZCPwB7y",
    "jupyter": {
     "outputs_hidden": true
    }
   },
   "outputs": [],
   "source": [
    "# add this to responses dict: \"default\": \"I love you too!\"\n",
    "# in the predict function: if the model is not too sure about the intent, return the string \"default\"\n",
    "    # There is a function that gives the probabilities for each of the possible outputs\n",
    "    # If the maximum probability is low, one might say that the model is not sure about the intent\n",
    "    # Note! This idea should work, but relies on the functionality of the predict_proba function:\n",
    "    # for the SVC model, the predict_proba function does not give meaningfull results for small datasets:\n",
    "    # http://scikit-learn.org/stable/modules/generated/sklearn.svm.SVC.html#sklearn.svm.SVC.predict_proba\n",
    "\n",
    "def get_intent_ml_2(text):\n",
    "    \"\"\"\n",
    "        Returns the intent from a given text, unless the model is not sure, in which case 'default' is returned\n",
    "    \"\"\"\n",
    "    doc = nlp(text)\n",
    "    max_proba = max(clf.predict_proba([doc.vector])[0])\n",
    "    if(max_proba == 0.5):\n",
    "        return('default')\n",
    "    else:\n",
    "        return(clf.predict([doc.vector])[0])\n",
    "\n",
    "def respond_ml_2(text):\n",
    "    response = responses_ml.get(get_intent_ml_2(text), responses_ml[\"default\"])\n",
    "    return(\"{}\\n\".format(input=text, output=response))"
   ]
  },
  {
   "cell_type": "code",
   "execution_count": 21,
   "metadata": {
    "_uuid": "4c8565dc445d95e8bccc32cfb4cb025aeb8f554e",
    "id": "yeourzsiwB7z",
    "scrolled": true
   },
   "outputs": [
    {
     "name": "stdout",
     "output_type": "stream",
     "text": [
      "sneeze\n",
      "Transmission\n"
     ]
    },
    {
     "ename": "IndexError",
     "evalue": "Replacement index 0 out of range for positional args tuple",
     "output_type": "error",
     "traceback": [
      "\u001b[1;31m---------------------------------------------------------------------------\u001b[0m",
      "\u001b[1;31mIndexError\u001b[0m                                Traceback (most recent call last)",
      "Input \u001b[1;32mIn [21]\u001b[0m, in \u001b[0;36m<cell line: 2>\u001b[1;34m()\u001b[0m\n\u001b[0;32m      1\u001b[0m \u001b[38;5;28mprint\u001b[39m(respond_ml(\u001b[38;5;124m'\u001b[39m\u001b[38;5;124msneeze\u001b[39m\u001b[38;5;124m'\u001b[39m))\n\u001b[1;32m----> 2\u001b[0m \u001b[38;5;28mprint\u001b[39m(\u001b[43mrespond_ml_2\u001b[49m\u001b[43m(\u001b[49m\u001b[38;5;124;43m'\u001b[39;49m\u001b[38;5;124;43msneeze\u001b[39;49m\u001b[38;5;124;43m'\u001b[39;49m\u001b[43m)\u001b[49m)\n",
      "Input \u001b[1;32mIn [20]\u001b[0m, in \u001b[0;36mrespond_ml_2\u001b[1;34m(text)\u001b[0m\n\u001b[0;32m     20\u001b[0m \u001b[38;5;28;01mdef\u001b[39;00m \u001b[38;5;21mrespond_ml_2\u001b[39m(text):\n\u001b[0;32m     21\u001b[0m     response \u001b[38;5;241m=\u001b[39m responses_ml\u001b[38;5;241m.\u001b[39mget(get_intent_ml_2(text), responses_ml[\u001b[38;5;124m\"\u001b[39m\u001b[38;5;124mdefault\u001b[39m\u001b[38;5;124m\"\u001b[39m])\n\u001b[1;32m---> 22\u001b[0m     \u001b[38;5;28;01mreturn\u001b[39;00m(\u001b[38;5;124;43m\"\u001b[39;49m\u001b[38;5;132;43;01m{}\u001b[39;49;00m\u001b[38;5;130;43;01m\\n\u001b[39;49;00m\u001b[38;5;124;43m\"\u001b[39;49m\u001b[38;5;241;43m.\u001b[39;49m\u001b[43mformat\u001b[49m\u001b[43m(\u001b[49m\u001b[38;5;28;43minput\u001b[39;49m\u001b[38;5;241;43m=\u001b[39;49m\u001b[43mtext\u001b[49m\u001b[43m,\u001b[49m\u001b[43m \u001b[49m\u001b[43moutput\u001b[49m\u001b[38;5;241;43m=\u001b[39;49m\u001b[43mresponse\u001b[49m\u001b[43m)\u001b[49m)\n",
      "\u001b[1;31mIndexError\u001b[0m: Replacement index 0 out of range for positional args tuple"
     ]
    }
   ],
   "source": [
    "print(respond_ml('sneeze'))\n",
    "print(respond_ml_2('sneeze'))"
   ]
  },
  {
   "cell_type": "code",
   "execution_count": 72,
   "metadata": {
    "_uuid": "2d4ea146682ff09ced5320ae1b9849f91a17c541",
    "id": "NroDvhrDwB7z",
    "jupyter": {
     "outputs_hidden": true
    }
   },
   "outputs": [],
   "source": [
    "def get_all_entities(text):\n",
    "    \"\"\"\n",
    "        Get all entities in a given text, in a text: label_ dictionary\n",
    "    \"\"\"\n",
    "    doc = nlp(text)\n",
    "    \n",
    "    d = defaultdict(list)\n",
    "    for ent in doc.ents:\n",
    "        d[ent.label_].append(ent.text)\n",
    "    return(d)"
   ]
  },
  {
   "cell_type": "code",
   "execution_count": 73,
   "metadata": {
    "_uuid": "ba7c528d4e663a24d157e51cddb4c47c62add3e2",
    "id": "-HK6uDcowB7z"
   },
   "outputs": [
    {
     "name": "stdout",
     "output_type": "stream",
     "text": [
      "[]\n"
     ]
    }
   ],
   "source": [
    "test_ents = get_all_entities('what do you know about covid?, or its symptoms or transmission or food clothes isolation')\n",
    "print(sorted(test_ents.items()))"
   ]
  },
  {
   "cell_type": "code",
   "execution_count": 74,
   "metadata": {
    "_uuid": "d425a92d125f2f64a10a059db438d5816e0900de",
    "id": "I-zHPGerwB70"
   },
   "outputs": [],
   "source": [
    "policy = {\n",
    "    (\"dinner_preference\", \"time and date\"): \"I want to eat pasta\",\n",
    "    (\"dinner_preference\", \"time only\"): \"I want to eat pasta\",\n",
    "    (\"dinner_preference\", \"date only\"): \"I want to eat pasta\",\n",
    "    (\"dinner_preference\", \"none\"): \"When?\",\n",
    "    (\"arrival_time\", \"time and date\"): \"I will be home at six\",\n",
    "    (\"arrival_time\", \"time only\"): \"I will be home at six\",\n",
    "    (\"arrival_time\", \"date only\"): \"I will be home at six\",\n",
    "    (\"arrival_time\", \"none\"): \"When?\",\n",
    "    (\"default\", \"none\"): \"What do you want?\",\n",
    "}"
   ]
  },
  {
   "cell_type": "code",
   "execution_count": 75,
   "metadata": {
    "_uuid": "a33437c55bdde32fe201dedcbcdd77e287030f85",
    "id": "wTfGSwnVwB70",
    "jupyter": {
     "outputs_hidden": true
    }
   },
   "outputs": [],
   "source": [
    "def respond_ml_3(text):\n",
    "    intent = get_intent_ml_2(text)\n",
    "    if intent != 'default':\n",
    "        entities = get_all_entities(text)\n",
    "        if 'TIME' in entities and 'DATE' in entities:\n",
    "            specification = 'time and date'\n",
    "            time = ' and '.join(entities['DATE']) + ' at ' + ' and '.join(entities['TIME'])\n",
    "        elif 'TIME' in entities:\n",
    "            specification = 'time only'\n",
    "            time = ' and '.join(entities['TIME'])\n",
    "        elif 'DATE' in entities:\n",
    "            specification = 'date only'\n",
    "            time = ' and '.join(entities['DATE'])\n",
    "        else:\n",
    "            specification = 'none'\n",
    "            time = \"\"\n",
    "    else:\n",
    "        specification = 'none'\n",
    "        time = \"\"\n",
    "    \n",
    "    response = policy.get((intent, specification)) + ' ' + time\n",
    "    return(output_format.format(input=text, output=response))"
   ]
  },
  {
   "cell_type": "code",
   "execution_count": 76,
   "metadata": {
    "_uuid": "ce26a0e85e95481fdc9ac9f2ccfaedcd1cffbd13",
    "id": "Vi48dSGbwB71",
    "jupyter": {
     "outputs_hidden": true
    }
   },
   "outputs": [
    {
     "ename": "SyntaxError",
     "evalue": "invalid syntax (Temp/ipykernel_18704/791215504.py, line 1)",
     "output_type": "error",
     "traceback": [
      "\u001b[1;36m  File \u001b[1;32m\"C:\\Users\\Sourabh\\AppData\\Local\\Temp/ipykernel_18704/791215504.py\"\u001b[1;36m, line \u001b[1;32m1\u001b[0m\n\u001b[1;33m    preferences {\"monday\" :\"pancakes\"}\u001b[0m\n\u001b[1;37m                ^\u001b[0m\n\u001b[1;31mSyntaxError\u001b[0m\u001b[1;31m:\u001b[0m invalid syntax\n"
     ]
    }
   ],
   "source": [
    "preferences {\"monday\" :\"pancakes\"}"
   ]
  },
  {
   "cell_type": "code",
   "execution_count": 70,
   "metadata": {
    "_uuid": "71aef586d5a117457b8d5a8d1a36036fd34f5477",
    "id": "OTlpDZQOwB72",
    "pycharm": {
     "name": "#%%\n"
    }
   },
   "outputs": [
    {
     "ename": "NameError",
     "evalue": "name 'respond_ml_3' is not defined",
     "output_type": "error",
     "traceback": [
      "\u001b[1;31m---------------------------------------------------------------------------\u001b[0m",
      "\u001b[1;31mNameError\u001b[0m                                 Traceback (most recent call last)",
      "\u001b[1;32m~\\AppData\\Local\\Temp/ipykernel_18704/1291312051.py\u001b[0m in \u001b[0;36m<module>\u001b[1;34m\u001b[0m\n\u001b[1;32m----> 1\u001b[1;33m \u001b[0mprint\u001b[0m\u001b[1;33m(\u001b[0m\u001b[0mrespond_ml_3\u001b[0m\u001b[1;33m(\u001b[0m\u001b[1;34m'<a simple question related to covid 19>'\u001b[0m\u001b[1;33m)\u001b[0m\u001b[1;33m)\u001b[0m\u001b[1;33m\u001b[0m\u001b[1;33m\u001b[0m\u001b[0m\n\u001b[0m",
      "\u001b[1;31mNameError\u001b[0m: name 'respond_ml_3' is not defined"
     ]
    }
   ],
   "source": [
    "print(respond_ml_3('<a simple question related to covid 19>'))\n"
   ]
  }
 ],
 "metadata": {
  "colab": {
   "collapsed_sections": [],
   "name": "building-a-chatbot.ipynb",
   "provenance": []
  },
  "kernelspec": {
   "display_name": "Python 3 (ipykernel)",
   "language": "python",
   "name": "python3"
  },
  "language_info": {
   "codemirror_mode": {
    "name": "ipython",
    "version": 3
   },
   "file_extension": ".py",
   "mimetype": "text/x-python",
   "name": "python",
   "nbconvert_exporter": "python",
   "pygments_lexer": "ipython3",
   "version": "3.10.4"
  }
 },
 "nbformat": 4,
 "nbformat_minor": 1
}
